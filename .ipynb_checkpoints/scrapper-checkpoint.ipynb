{
 "cells": [
  {
   "cell_type": "code",
   "execution_count": 1,
   "id": "9154c5ca",
   "metadata": {},
   "outputs": [],
   "source": [
    "from selenium import webdriver\n",
    "from selenium.webdriver.common.keys import Keys\n",
    "from selenium.webdriver.common.action_chains import ActionChains\n",
    "import time\n",
    "import requests\n",
    "from urllib.parse import urlparse"
   ]
  },
  {
   "cell_type": "code",
   "execution_count": 2,
   "id": "ef14ca0f",
   "metadata": {},
   "outputs": [],
   "source": []
  },
  {
   "cell_type": "code",
   "execution_count": 11,
   "id": "4cba71f9",
   "metadata": {},
   "outputs": [
    {
     "data": {
      "text/plain": [
       "('127.045641393072', '37.5481060299191')"
      ]
     },
     "execution_count": 11,
     "metadata": {},
     "output_type": "execute_result"
    }
   ],
   "source": []
  },
  {
   "cell_type": "code",
   "execution_count": 90,
   "id": "6e51bd58",
   "metadata": {},
   "outputs": [],
   "source": [
    "# 크롬드라이버\n",
    "driver = webdriver.Chrome(\n",
    "    executable_path= \"/Users/sehyunk/chromedriver\"\n",
    ")"
   ]
  },
  {
   "cell_type": "code",
   "execution_count": 117,
   "id": "967ab6b4",
   "metadata": {},
   "outputs": [
    {
     "name": "stdout",
     "output_type": "stream",
     "text": [
      "1 15\n",
      "2 30\n",
      "3 45\n",
      "4 60\n",
      "5 75\n",
      "6 90\n",
      "7 105\n",
      "8 120\n",
      "9 135\n",
      "10 150\n",
      "11 165\n",
      "12 180\n",
      "13 195\n",
      "14 210\n",
      "15 225\n",
      "16 240\n",
      "17 255\n",
      "18 270\n",
      "19 285\n",
      "20 300\n"
     ]
    }
   ],
   "source": [
    "keyword = '도산대로 맛집'\n",
    "url = 'https://map.kakao.com/'\n",
    "driver.get(url)\n",
    "action = ActionChains(driver)\n",
    "\n",
    "time.sleep(2)\n",
    "driver.find_element_by_id('search.keyword.query').click()\n",
    "driver.find_element_by_id('search.keyword.query').send_keys(keyword)\n",
    "driver.find_element_by_id('search.keyword.query').send_keys(Keys.RETURN)\n",
    "\n",
    "time.sleep(2)\n",
    "driver.find_element_by_id('info.search.place.more').click()\n",
    "time.sleep(2)\n",
    "driver.find_element_by_id('info.search.page.no1').click()\n",
    "time.sleep(2)\n",
    "\n",
    "pagenum = 20\n",
    "results = []\n",
    "for page in range(1,pagenum+1):\n",
    "    replys = driver.find_elements_by_css_selector('li.PlaceItem')\n",
    "    time.sleep(2)\n",
    "    for reply in replys:\n",
    "        name = reply.find_element_by_css_selector('a.link_name').text\n",
    "        category = reply.find_element_by_css_selector('span.subcategory').text\n",
    "        rating = reply.find_element_by_css_selector('em.num').text\n",
    "        rcount = reply.find_element_by_css_selector('div.rating.clickArea > a > em').text.replace(',','')\n",
    "        address = reply.find_element_by_css_selector('div.info_item > div.addr').text.split('\\n')[0]\n",
    "        results.append((name, category, rating, rcount, address))\n",
    "        time.sleep(2)\n",
    "    if page%5:\n",
    "        driver.find_element_by_id('info.search.page.no{}'.format(page%5+1)).click()\n",
    "    else:\n",
    "        driver.find_element_by_id('info.search.page.next').click()\n",
    "    time.sleep(2)\n",
    "    print(page, len(results))"
   ]
  },
  {
   "cell_type": "code",
   "execution_count": 119,
   "id": "f8a0995c",
   "metadata": {},
   "outputs": [],
   "source": [
    "df = pd.DataFrame(results, columns = ['name','category','rating', 'ncount', 'address'])"
   ]
  },
  {
   "cell_type": "code",
   "execution_count": 122,
   "id": "b8573e28",
   "metadata": {
    "scrolled": true
   },
   "outputs": [
    {
     "data": {
      "text/html": [
       "<div>\n",
       "<style scoped>\n",
       "    .dataframe tbody tr th:only-of-type {\n",
       "        vertical-align: middle;\n",
       "    }\n",
       "\n",
       "    .dataframe tbody tr th {\n",
       "        vertical-align: top;\n",
       "    }\n",
       "\n",
       "    .dataframe thead th {\n",
       "        text-align: right;\n",
       "    }\n",
       "</style>\n",
       "<table border=\"1\" class=\"dataframe\">\n",
       "  <thead>\n",
       "    <tr style=\"text-align: right;\">\n",
       "      <th></th>\n",
       "      <th>name</th>\n",
       "      <th>category</th>\n",
       "      <th>rating</th>\n",
       "      <th>ncount</th>\n",
       "      <th>address</th>\n",
       "    </tr>\n",
       "  </thead>\n",
       "  <tbody>\n",
       "    <tr>\n",
       "      <th>295</th>\n",
       "      <td>보다</td>\n",
       "      <td>중화요리</td>\n",
       "      <td>4.0</td>\n",
       "      <td>10</td>\n",
       "      <td>서울 강남구 도산대로 308</td>\n",
       "    </tr>\n",
       "    <tr>\n",
       "      <th>296</th>\n",
       "      <td>가로수브루잉컴퍼니</td>\n",
       "      <td>호프,요리주점</td>\n",
       "      <td>3.7</td>\n",
       "      <td>31</td>\n",
       "      <td>서울 강남구 도산대로11길 31-4</td>\n",
       "    </tr>\n",
       "    <tr>\n",
       "      <th>297</th>\n",
       "      <td>푸드2900 논현시티점</td>\n",
       "      <td>분식</td>\n",
       "      <td>3.6</td>\n",
       "      <td>20</td>\n",
       "      <td>서울 강남구 도산대로50길 16</td>\n",
       "    </tr>\n",
       "    <tr>\n",
       "      <th>298</th>\n",
       "      <td>도사</td>\n",
       "      <td>한식</td>\n",
       "      <td>3.7</td>\n",
       "      <td>26</td>\n",
       "      <td>서울 강남구 도산대로67길 7 지하1층</td>\n",
       "    </tr>\n",
       "    <tr>\n",
       "      <th>299</th>\n",
       "      <td>소호앤노호 도산대로점</td>\n",
       "      <td>카페</td>\n",
       "      <td>1.0</td>\n",
       "      <td>0</td>\n",
       "      <td>서울 강남구 도산대로50길 8</td>\n",
       "    </tr>\n",
       "  </tbody>\n",
       "</table>\n",
       "</div>"
      ],
      "text/plain": [
       "             name category rating ncount                address\n",
       "295            보다     중화요리    4.0     10        서울 강남구 도산대로 308\n",
       "296     가로수브루잉컴퍼니  호프,요리주점    3.7     31    서울 강남구 도산대로11길 31-4\n",
       "297  푸드2900 논현시티점       분식    3.6     20      서울 강남구 도산대로50길 16\n",
       "298            도사       한식    3.7     26  서울 강남구 도산대로67길 7 지하1층\n",
       "299   소호앤노호 도산대로점       카페    1.0      0       서울 강남구 도산대로50길 8"
      ]
     },
     "execution_count": 122,
     "metadata": {},
     "output_type": "execute_result"
    }
   ],
   "source": [
    "df.tail()"
   ]
  },
  {
   "cell_type": "code",
   "execution_count": 126,
   "id": "d170cdd1",
   "metadata": {},
   "outputs": [],
   "source": [
    "df.to_csv('./data/scrapped.csv')"
   ]
  },
  {
   "cell_type": "code",
   "execution_count": null,
   "id": "d08bca5a",
   "metadata": {},
   "outputs": [],
   "source": []
  }
 ],
 "metadata": {
  "kernelspec": {
   "display_name": "Python 3",
   "language": "python",
   "name": "python3"
  },
  "language_info": {
   "codemirror_mode": {
    "name": "ipython",
    "version": 3
   },
   "file_extension": ".py",
   "mimetype": "text/x-python",
   "name": "python",
   "nbconvert_exporter": "python",
   "pygments_lexer": "ipython3",
   "version": "3.8.8"
  }
 },
 "nbformat": 4,
 "nbformat_minor": 5
}
