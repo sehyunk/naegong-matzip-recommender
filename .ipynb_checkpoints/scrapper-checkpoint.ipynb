{
 "cells": [
  {
   "cell_type": "markdown",
   "id": "67bf42cb",
   "metadata": {},
   "source": [
    "# 맛집 데이터 크롤링\n",
    "- 구글맵에서 진행하려했으나 크롤링하기 어려운 구조라 카카오맵으로 변경\n",
    "- 지역키워드를 입력하면 '지역키워드 + 맛집'으로 검색하여 서칭\n",
    "- 결과물을 csv로 저장해서 recomender.ipynb에서 분석"
   ]
  },
  {
   "cell_type": "code",
   "execution_count": 6,
   "id": "9154c5ca",
   "metadata": {},
   "outputs": [],
   "source": [
    "# 라이브러리 임포트\n",
    "from selenium import webdriver\n",
    "from selenium.webdriver.common.keys import Keys\n",
    "from selenium.webdriver.common.action_chains import ActionChains\n",
    "import time\n",
    "import requests\n",
    "from urllib.parse import urlparse"
   ]
  },
  {
   "cell_type": "code",
   "execution_count": 7,
   "id": "6e51bd58",
   "metadata": {},
   "outputs": [],
   "source": [
    "# 크롬드라이버 위치 지정\n",
    "driver = webdriver.Chrome(\n",
    "    executable_path= \"/Users/sehyunk/chromedriver\"\n",
    ")"
   ]
  },
  {
   "cell_type": "code",
   "execution_count": 24,
   "id": "f4853364",
   "metadata": {},
   "outputs": [],
   "source": [
    "# 구글맵으로 시도하려고 했으나 크롤링이 힘들게 되어있어 카카오맵으로 진행\n",
    "url = 'https://map.kakao.com/'\n",
    "\n",
    "# 지역키워드\n",
    "keyword = '연남동'\n",
    "# 크롤링할 최대 페이지\n",
    "pagenum = 30"
   ]
  },
  {
   "cell_type": "code",
   "execution_count": 25,
   "id": "967ab6b4",
   "metadata": {},
   "outputs": [
    {
     "name": "stdout",
     "output_type": "stream",
     "text": [
      "1 18\n",
      "2 33\n",
      "3 48\n",
      "4 63\n",
      "5 78\n",
      "6 93\n",
      "7 108\n",
      "8 123\n",
      "9 138\n",
      "10 153\n",
      "11 168\n",
      "12 183\n",
      "13 198\n",
      "14 213\n",
      "15 228\n",
      "16 243\n",
      "17 258\n",
      "18 273\n",
      "19 288\n",
      "20 303\n",
      "21 318\n",
      "22 333\n",
      "23 348\n",
      "24 363\n",
      "25 378\n",
      "26 393\n",
      "27 408\n",
      "28 423\n",
      "29 438\n",
      "30 453\n"
     ]
    }
   ],
   "source": [
    "driver.get(url)\n",
    "\n",
    "time.sleep(2)\n",
    "# 검색창 클릭\n",
    "driver.find_element_by_id('search.keyword.query').click()\n",
    "# 지역명 + 맛집 입력\n",
    "driver.find_element_by_id('search.keyword.query').send_keys(keyword + ' 맛집')\n",
    "# 엔터키로 제출\n",
    "driver.find_element_by_id('search.keyword.query').send_keys(Keys.RETURN)\n",
    "time.sleep(2)\n",
    "\n",
    "# 더보기 버튼 클릭해 페이지네이션 페이지로 이동\n",
    "driver.find_element_by_id('info.search.place.more').click()\n",
    "time.sleep(2)\n",
    "# 더보기 버튼 클릭 직후는 2페이지에서 시작하기 때문에 1페이지로 이동\n",
    "driver.find_element_by_id('info.search.page.no1').click()\n",
    "time.sleep(2)\n",
    "\n",
    "# 크롤링할 데이터를 담을 빈 리스트 생성\n",
    "results = []\n",
    "# 페이지별로 반복\n",
    "for page in range(1,pagenum+1):\n",
    "    # 페이지에서 클래스가 PlaceItem인 li 찾아서 replys에 할당\n",
    "    replys = driver.find_elements_by_css_selector('li.PlaceItem')\n",
    "    time.sleep(2)\n",
    "    \n",
    "    # list태그 안에서 필요한 데이터 수집\n",
    "    for reply in replys:\n",
    "        name = reply.find_element_by_css_selector('a.link_name').text\n",
    "        category = reply.find_element_by_css_selector('span.subcategory').text\n",
    "        rating = reply.find_element_by_css_selector('em.num').text\n",
    "        # 자릿수 표기로 중간에 ','가 들어가 있어 지우고 수집\n",
    "        rcount = reply.find_element_by_css_selector('div.rating.clickArea > a > em').text.replace(',','')\n",
    "        # 도로명과 지번주소가 같이 수집되어 '\\n'으로 나누고 도로명만 수집\n",
    "        address = reply.find_element_by_css_selector('div.info_item > div.addr').text.split('\\n')[0]\n",
    "        # results에 리스트로 수집한 데이터 추가\n",
    "        results.append([name, category, rating, rcount, address])\n",
    "        time.sleep(2)\n",
    "    # 페이지가 5의 배수가 아니라면 True\n",
    "    if page%5:\n",
    "        # 페이지에 따라서 1~4의 페이지네이션 버튼을 클릭(ex: 6이면 7로 가야하니까, '6%5 + 1'번 페이지버튼 클릭)\n",
    "        driver.find_element_by_id('info.search.page.no{}'.format(page%5+1)).click()\n",
    "    else:\n",
    "        # 페이지가 5로 나누어 떨어질 경우 > 버튼 클릭\n",
    "        driver.find_element_by_id('info.search.page.next').click()\n",
    "    time.sleep(2)\n",
    "    # 페이지, 수집데이터 수 확인\n",
    "    print(page, len(results))"
   ]
  },
  {
   "cell_type": "code",
   "execution_count": 26,
   "id": "f8a0995c",
   "metadata": {},
   "outputs": [],
   "source": [
    "# 수집한 데이터 데이터프레임 형식으로 df에 할당\n",
    "df = pd.DataFrame(results, columns = ['name','category','rating', 'ncount', 'address'])"
   ]
  },
  {
   "cell_type": "code",
   "execution_count": 27,
   "id": "b8573e28",
   "metadata": {
    "scrolled": true
   },
   "outputs": [
    {
     "data": {
      "text/html": [
       "<div>\n",
       "<style scoped>\n",
       "    .dataframe tbody tr th:only-of-type {\n",
       "        vertical-align: middle;\n",
       "    }\n",
       "\n",
       "    .dataframe tbody tr th {\n",
       "        vertical-align: top;\n",
       "    }\n",
       "\n",
       "    .dataframe thead th {\n",
       "        text-align: right;\n",
       "    }\n",
       "</style>\n",
       "<table border=\"1\" class=\"dataframe\">\n",
       "  <thead>\n",
       "    <tr style=\"text-align: right;\">\n",
       "      <th></th>\n",
       "      <th>name</th>\n",
       "      <th>category</th>\n",
       "      <th>rating</th>\n",
       "      <th>ncount</th>\n",
       "      <th>address</th>\n",
       "    </tr>\n",
       "  </thead>\n",
       "  <tbody>\n",
       "    <tr>\n",
       "      <th>448</th>\n",
       "      <td>이때</td>\n",
       "      <td>카페</td>\n",
       "      <td>4.6</td>\n",
       "      <td>22</td>\n",
       "      <td>서울 마포구 동교로38안길 7</td>\n",
       "    </tr>\n",
       "    <tr>\n",
       "      <th>449</th>\n",
       "      <td>미소식빵</td>\n",
       "      <td>제과,베이커리</td>\n",
       "      <td>4.2</td>\n",
       "      <td>2</td>\n",
       "      <td>서울 마포구 동교로27길 92</td>\n",
       "    </tr>\n",
       "    <tr>\n",
       "      <th>450</th>\n",
       "      <td>데어데어</td>\n",
       "      <td>호프,요리주점</td>\n",
       "      <td>3.5</td>\n",
       "      <td>6</td>\n",
       "      <td>서울 마포구 동교로38길 33-9</td>\n",
       "    </tr>\n",
       "    <tr>\n",
       "      <th>451</th>\n",
       "      <td>연남고집</td>\n",
       "      <td>술집</td>\n",
       "      <td>4.5</td>\n",
       "      <td>34</td>\n",
       "      <td>서울 마포구 동교로38길 7 지층</td>\n",
       "    </tr>\n",
       "    <tr>\n",
       "      <th>452</th>\n",
       "      <td>카페테드</td>\n",
       "      <td>커피전문점</td>\n",
       "      <td>3.4</td>\n",
       "      <td>34</td>\n",
       "      <td>서울 마포구 성미산로32길 51</td>\n",
       "    </tr>\n",
       "  </tbody>\n",
       "</table>\n",
       "</div>"
      ],
      "text/plain": [
       "     name category rating ncount             address\n",
       "448    이때       카페    4.6     22    서울 마포구 동교로38안길 7\n",
       "449  미소식빵  제과,베이커리    4.2      2    서울 마포구 동교로27길 92\n",
       "450  데어데어  호프,요리주점    3.5      6  서울 마포구 동교로38길 33-9\n",
       "451  연남고집       술집    4.5     34  서울 마포구 동교로38길 7 지층\n",
       "452  카페테드    커피전문점    3.4     34   서울 마포구 성미산로32길 51"
      ]
     },
     "execution_count": 27,
     "metadata": {},
     "output_type": "execute_result"
    }
   ],
   "source": [
    "# 미리보기\n",
    "df.tail()"
   ]
  },
  {
   "cell_type": "code",
   "execution_count": 28,
   "id": "d170cdd1",
   "metadata": {},
   "outputs": [],
   "source": [
    "# csv파일로 저장\n",
    "df.to_csv('./data/scrapped.csv')"
   ]
  }
 ],
 "metadata": {
  "kernelspec": {
   "display_name": "Python 3",
   "language": "python",
   "name": "python3"
  },
  "language_info": {
   "codemirror_mode": {
    "name": "ipython",
    "version": 3
   },
   "file_extension": ".py",
   "mimetype": "text/x-python",
   "name": "python",
   "nbconvert_exporter": "python",
   "pygments_lexer": "ipython3",
   "version": "3.8.8"
  }
 },
 "nbformat": 4,
 "nbformat_minor": 5
}
